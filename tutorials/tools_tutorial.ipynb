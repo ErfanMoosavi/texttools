{
 "cells": [
  {
   "cell_type": "markdown",
   "id": "d90cacab",
   "metadata": {},
   "source": [
    "# TextTools Tutorial\n",
    "\n",
    "Welcome! 🎉 This notebook is a hands-on tutorial for the `texttools` Python package.\n",
    "\n",
    "`texttools` provides a set of **high-level natural language processing (NLP)** tools.\n",
    "You'll learn:\n",
    "- How to install and set up `texttools` and `OpenAI` client\n",
    "- Tools usage\n",
    "\n",
    "By the end, you'll know how to use `texttools` in your own NLP and text-processing projects.\n"
   ]
  },
  {
   "cell_type": "markdown",
   "id": "948260c9",
   "metadata": {},
   "source": [
    "## 1. Install texttools\n",
    "First, you need to install texttools using:\n",
    "```\n",
    "pip install -U hamta-texttools\n",
    "```"
   ]
  },
  {
   "cell_type": "markdown",
   "id": "d2a549d9",
   "metadata": {},
   "source": [
    "## 2. Setup\n",
    "Then, you need to configure your OpenAI (or OpenRouter) API key. Create a `.env` file in your project directory and add:\n",
    "\n",
    "```\n",
    "OPENAI_API_KEY=your_api_key_here\n",
    "```\n",
    "Where to get OPENAI_APY_KEY from?\n",
    "https://openrouter.ai/settings/keys"
   ]
  },
  {
   "cell_type": "markdown",
   "id": "7811a82f",
   "metadata": {},
   "source": [
    "## 3. Import required libraries"
   ]
  },
  {
   "cell_type": "code",
   "execution_count": null,
   "id": "b7a69fde",
   "metadata": {},
   "outputs": [],
   "source": [
    "import os\n",
    "from dotenv import load_dotenv\n",
    "from openai import OpenAI"
   ]
  },
  {
   "cell_type": "markdown",
   "id": "e74c62f8",
   "metadata": {},
   "source": [
    "## 4. Initialize client\n",
    "\n",
    "Here we load environment variables and configure the model"
   ]
  },
  {
   "cell_type": "code",
   "execution_count": null,
   "id": "1febaf75",
   "metadata": {},
   "outputs": [],
   "source": [
    "# Load environment variables from .env\n",
    "load_dotenv()\n",
    "\n",
    "# Load API key from environment variable\n",
    "API_KEY = os.getenv(\"OPENAI_API_KEY\")\n",
    "\n",
    "# Specify the model (through OpenRouter)\n",
    "model = \"gpt-4o-mini\"\n",
    "\n",
    "# Create an OpenAI client\n",
    "client = OpenAI(api_key=API_KEY, base_url=\"https://openrouter.ai/api/v1\")"
   ]
  },
  {
   "cell_type": "markdown",
   "id": "2c01cb67",
   "metadata": {},
   "source": [
    "## 5. Done!\n",
    "Now you can use all of the tools of **texttools!**"
   ]
  },
  {
   "cell_type": "markdown",
   "id": "b7b3a2b2",
   "metadata": {},
   "source": [
    "## 6. How to use texttools tools?\n",
    "Now it's time to see how to use texttools tools and what they do?"
   ]
  },
  {
   "cell_type": "code",
   "execution_count": null,
   "id": "7254de68",
   "metadata": {},
   "outputs": [],
   "source": [
    "from texttools import TheTool\n",
    "\n",
    "the_tool = TheTool(client=client, model=model)\n",
    "\n",
    "results = the_tool.translate(\n",
    "    \"این یک متن تست برای ترجمه است.\",\n",
    "    target_language=\"English\",\n",
    "    with_analysis=True,\n",
    "    logprobs=True,\n",
    "    top_logprobs=3\n",
    ")\n",
    "print(results[\"result\"])\n",
    "print(results[\"analysis\"])\n",
    "print(results[\"logprobs\"])"
   ]
  },
  {
   "cell_type": "markdown",
   "id": "2e7ed135",
   "metadata": {},
   "source": [
    "## And so on!"
   ]
  }
 ],
 "metadata": {
  "kernelspec": {
   "display_name": "Python 3 (ipykernel)",
   "language": "python",
   "name": "python3"
  },
  "language_info": {
   "codemirror_mode": {
    "name": "ipython",
    "version": 3
   },
   "file_extension": ".py",
   "mimetype": "text/x-python",
   "name": "python",
   "nbconvert_exporter": "python",
   "pygments_lexer": "ipython3",
   "version": "3.10.12"
  }
 },
 "nbformat": 4,
 "nbformat_minor": 5
}
