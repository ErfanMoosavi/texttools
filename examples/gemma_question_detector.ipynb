{
 "cells": [
  {
   "cell_type": "code",
   "execution_count": 1,
   "id": "95a042cb",
   "metadata": {},
   "outputs": [],
   "source": [
    "from openai import OpenAI\n",
    "\n",
    "API_KEY=\"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\"\n",
    "\n",
    "client = OpenAI(\n",
    "\tapi_key=API_KEY,\n",
    " \tbase_url=\"https://openrouter.ai/api/v1\"\n",
    ")\n",
    "\n"
   ]
  },
  {
   "cell_type": "code",
   "execution_count": 10,
   "id": "53e97966",
   "metadata": {},
   "outputs": [],
   "source": [
    "from texttools.question_detector import GemmaQuestionDetector\n",
    "\n",
    "detector = GemmaQuestionDetector(\n",
    "\tclient=client,\n",
    "\tmodel=\"google/gemma-3n-e4b-it:free\",\n",
    "\tuse_reason=True\n",
    ")"
   ]
  },
  {
   "cell_type": "code",
   "execution_count": null,
   "id": "bf5c3b58",
   "metadata": {},
   "outputs": [],
   "source": [
    "detector.detect(\"حقیقت رحمانی بودن یا شیطانی بودن «عرفان حلقه» را باید از آسیب دیدگانی پرسید که به واسطه فرادرمانی نزد محمدعلی طاهری و مربیان وی رفته و هم اکنون در مراکز مغز و اعصاب در شهرهای مختلف کشور بستری هستند.\")"
   ]
  }
 ],
 "metadata": {
  "kernelspec": {
   "display_name": "general",
   "language": "python",
   "name": "python3"
  },
  "language_info": {
   "codemirror_mode": {
    "name": "ipython",
    "version": 3
   },
   "file_extension": ".py",
   "mimetype": "text/x-python",
   "name": "python",
   "nbconvert_exporter": "python",
   "pygments_lexer": "ipython3",
   "version": "3.10.8"
  }
 },
 "nbformat": 4,
 "nbformat_minor": 5
}
