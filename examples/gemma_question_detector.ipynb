{
 "cells": [
  {
   "cell_type": "code",
   "execution_count": null,
   "id": "95a042cb",
   "metadata": {},
   "outputs": [],
   "source": [
    "import os\n",
    "\n",
    "from dotenv import load_dotenv\n",
    "from openai import OpenAI\n",
    "\n",
    "from texttools.tools.question_detector import GemmaQuestionDetector"
   ]
  },
  {
   "cell_type": "code",
   "execution_count": null,
   "id": "53e97966",
   "metadata": {},
   "outputs": [],
   "source": [
    "# Load environment variables from .env\n",
    "load_dotenv()\n",
    "\n",
    "# Load API key from environment variable\n",
    "API_KEY = os.getenv(\"OPENAI_API_KEY\")\n",
    "if API_KEY is None:\n",
    "    raise ValueError(\"Please set the OPENAI_API_KEY environment variable\")\n",
    "\n",
    "# Specify the model\n",
    "model = \"google/gemma-3n-e4b-it:free\"\n",
    "\n",
    "# Create an OpenAI client\n",
    "client = OpenAI(api_key=API_KEY, base_url=\"https://openrouter.ai/api/v1\")\n",
    "\n",
    "# Instanciate GemmaQuestionDetector\n",
    "detector = GemmaQuestionDetector(\n",
    "    client=client, model=\"google/gemma-3n-e4b-it:free\", use_reason=True\n",
    ")"
   ]
  },
  {
   "cell_type": "code",
   "execution_count": null,
   "id": "bf5c3b58",
   "metadata": {},
   "outputs": [],
   "source": [
    "# Detect\n",
    "detector.detect(\"حقیقت رحمانی بودن یا شیطانی بودن «عرفان حلقه» را باید از آسیب دیدگانی پرسید که به واسطه فرادرمانی نزد محمدعلی طاهری و مربیان وی رفته و هم اکنون در مراکز مغز و اعصاب در شهرهای مختلف کشور بستری هستند.\")"
   ]
  }
 ],
 "metadata": {
  "kernelspec": {
   "display_name": "general",
   "language": "python",
   "name": "python3"
  },
  "language_info": {
   "codemirror_mode": {
    "name": "ipython",
    "version": 3
   },
   "file_extension": ".py",
   "mimetype": "text/x-python",
   "name": "python",
   "nbconvert_exporter": "python",
   "pygments_lexer": "ipython3",
   "version": "3.9.0"
  }
 },
 "nbformat": 4,
 "nbformat_minor": 5
}
