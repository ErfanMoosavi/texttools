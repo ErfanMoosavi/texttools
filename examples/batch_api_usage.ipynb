{
 "cells": [
  {
   "cell_type": "code",
   "execution_count": null,
   "id": "ae007755",
   "metadata": {},
   "outputs": [],
   "source": [
    "from texttools import SimpleBatchManager\n",
    "# from texttools.handlers import PrintResultHandler\n",
    "from openai import OpenAI\n",
    "from pydantic import BaseModel\n",
    "# import httpx\n",
    "# import os"
   ]
  },
  {
   "cell_type": "code",
   "execution_count": 2,
   "id": "34fafc3a",
   "metadata": {},
   "outputs": [],
   "source": [
    "##################### best practice for connecting without error ####################\n",
    "\n",
    "# 1- using a proxy\n",
    "# 2- running the code on VPS\n",
    "\n",
    "# the first option is better, the data will be locally saved if anything went wrong"
   ]
  },
  {
   "cell_type": "markdown",
   "id": "15654c58",
   "metadata": {},
   "source": [
    "# setup OpenAI client "
   ]
  },
  {
   "cell_type": "code",
   "execution_count": 3,
   "id": "e346c330",
   "metadata": {},
   "outputs": [],
   "source": [
    "client = OpenAI(\n",
    "    # it is a good practice to include the OpenAI api key\n",
    "    # in the .env of the project and not in the actual code\n",
    "\t# api_key = os.getenv(\"OPEANI_API\")\n",
    "\tapi_key = \"sk-h**********\",\n",
    " \n",
    "\t# if you are using a proxy\n",
    " \t# http_client=httpx.Client(proxy=proxy_url)\n",
    ")"
   ]
  },
  {
   "cell_type": "markdown",
   "id": "ec38442e",
   "metadata": {},
   "source": [
    "# setup output structre"
   ]
  },
  {
   "cell_type": "code",
   "execution_count": null,
   "id": "ab17897a",
   "metadata": {},
   "outputs": [],
   "source": [
    "# you should implement this however you want\n",
    "# the value for each key can be bool, integer, string or anything\n",
    "# the model will theoratically obey this structure\n",
    "\n",
    "\n",
    "class OutputData(BaseModel):\n",
    "    desired_output: str"
   ]
  },
  {
   "cell_type": "markdown",
   "id": "b019ac82",
   "metadata": {},
   "source": [
    "# setup BatchManager"
   ]
  },
  {
   "cell_type": "code",
   "execution_count": null,
   "id": "0fca41a2",
   "metadata": {},
   "outputs": [],
   "source": [
    "manager = SimpleBatchManager(\n",
    "\tclient=client,\n",
    "\tmodel=\"gpt-4.1-nano\", # for example, change if you want to\n",
    "\tprompt_template=\"\"\"\n",
    " the template prompt that you want for each answer\n",
    " \"\"\",\n",
    "\t# optional but highly recommended\n",
    "\t# handlers=[PrintResultHandler()],\n",
    "\toutput_model=OutputData\n",
    ")"
   ]
  },
  {
   "cell_type": "markdown",
   "id": "53a555ff",
   "metadata": {},
   "source": [
    "# start the Job"
   ]
  },
  {
   "cell_type": "code",
   "execution_count": 4,
   "id": "ffd899f8",
   "metadata": {},
   "outputs": [],
   "source": [
    "data = [\n",
    "    \"The cat sat on the sunny windowsill.\",\n",
    "    \"She opened the old book and began to read.\",\n",
    "    \"A gentle breeze rustled through the trees.\",\n",
    "    \"He brewed a fresh pot of coffee in the morning.\",\n",
    "    \"They walked along the beach at sunset.\"\n",
    "]"
   ]
  },
  {
   "cell_type": "code",
   "execution_count": null,
   "id": "99c8b509",
   "metadata": {},
   "outputs": [],
   "source": [
    "\n",
    "# this code starts the job, sends the file to openai\n",
    "# and thats it, it will only send the job\n",
    "# it wont wait for results, as they take a long time to process\n",
    "\n",
    "\n",
    "manager.start(data, job_name=\"testing_001\") "
   ]
  },
  {
   "cell_type": "markdown",
   "id": "810c6593",
   "metadata": {},
   "source": [
    "# chck job status"
   ]
  },
  {
   "cell_type": "code",
   "execution_count": null,
   "id": "692e851a",
   "metadata": {},
   "outputs": [],
   "source": [
    "# we check the state like this\n",
    "\n",
    "manager.check_status(job_name=\"testing_001\")\n",
    "\n",
    "# example output \"validating\", \"completed\" ...\n",
    "\n",
    "# write a custom for loop to check while it is not completed"
   ]
  },
  {
   "cell_type": "markdown",
   "id": "e30a79a7",
   "metadata": {},
   "source": [
    "# fetch results"
   ]
  },
  {
   "cell_type": "code",
   "execution_count": null,
   "id": "9a225d6c",
   "metadata": {},
   "outputs": [],
   "source": [
    "\n",
    "# will send the results to the handler\n",
    "# then return them to you\n",
    "# store them in a variable for later usage\n",
    "\n",
    "manager.fetch_results(job_name=\"testing_001\")"
   ]
  }
 ],
 "metadata": {
  "kernelspec": {
   "display_name": "general",
   "language": "python",
   "name": "python3"
  },
  "language_info": {
   "codemirror_mode": {
    "name": "ipython",
    "version": 3
   },
   "file_extension": ".py",
   "mimetype": "text/x-python",
   "name": "python",
   "nbconvert_exporter": "python",
   "pygments_lexer": "ipython3",
   "version": "3.9.15"
  }
 },
 "nbformat": 4,
 "nbformat_minor": 5
}
