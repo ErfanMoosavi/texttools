{
 "cells": [
  {
   "cell_type": "code",
   "execution_count": null,
   "id": "770849cc",
   "metadata": {},
   "outputs": [],
   "source": [
    "import os\n",
    "\n",
    "from dotenv import load_dotenv\n",
    "from openai import OpenAI\n",
    "\n",
    "from texttools.tools.translator import GemmaTranslator"
   ]
  },
  {
   "cell_type": "code",
   "execution_count": null,
   "id": "776d2028",
   "metadata": {},
   "outputs": [],
   "source": [
    "# Load environment variables from .env\n",
    "load_dotenv()\n",
    "\n",
    "# Load API key from environment variable\n",
    "API_KEY = os.getenv(\"OPENAI_API_KEY\")\n",
    "if API_KEY is None:\n",
    "    raise ValueError(\"Please set the OPENAI_API_KEY environment variable\")\n",
    "\n",
    "# Specify the model\n",
    "model = \"google/gemma-3n-e4b-it:free\"\n",
    "\n",
    "# Create an OpenAI client\n",
    "client = OpenAI(api_key=API_KEY, base_url=\"https://openrouter.ai/api/v1\")\n",
    "\n",
    "# Instanciate GemmaTranslator\n",
    "translator = GemmaTranslator(client=client, model=model, use_reason=True)"
   ]
  },
  {
   "cell_type": "code",
   "execution_count": null,
   "id": "407bbf75",
   "metadata": {},
   "outputs": [],
   "source": [
    "# Translate\n",
    "translation = translator.translate(\n",
    "    \"چرا بلعم باعورا در قرآن به سگ تشبیه شده است؟\",\n",
    "    \"English\",\n",
    "    \"Persian\",\n",
    ")\n",
    "\n",
    "print(translation)"
   ]
  }
 ],
 "metadata": {
  "kernelspec": {
   "display_name": "Python 3",
   "language": "python",
   "name": "python3"
  },
  "language_info": {
   "name": "python",
   "version": "3.13.5"
  }
 },
 "nbformat": 4,
 "nbformat_minor": 5
}
