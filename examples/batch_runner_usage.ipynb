{
 "cells": [
  {
   "cell_type": "code",
   "execution_count": null,
   "id": "ae007755",
   "metadata": {},
   "outputs": [],
   "source": [
    "import json\n",
    "import os\n",
    "import time\n",
    "from pathlib import Path\n",
    "from typing import List, Dict, Any, Callable\n",
    "\n",
    "from openai import OpenAI\n",
    "from pydantic import BaseModel\n",
    "from dotenv import load_dotenv\n",
    "from texttools.batch_manager import BatchJobRunner\n",
    "from dataclasses import dataclass"
   ]
  },
  {
   "cell_type": "code",
   "execution_count": null,
   "id": "34fafc3a",
   "metadata": {},
   "outputs": [],
   "source": [
    "##################### Best practice for connecting without error ####################\n",
    "\n",
    "# 1- Using a proxy\n",
    "# 2- Running the code on VPS\n",
    "\n",
    "# The first option is better, the data will be locally saved if anything went wrong"
   ]
  },
  {
   "cell_type": "markdown",
   "id": "15654c58",
   "metadata": {},
   "source": [
    "# Configurations "
   ]
  },
  {
   "cell_type": "code",
   "execution_count": null,
   "id": "e3da6b17",
   "metadata": {},
   "outputs": [],
   "source": [
    "# --- Configuration for batch ---\n",
    "class OutputModel(BaseModel):\n",
    "    desired_output: str\n",
    "\n",
    "\n",
    "def exporting_data(data):\n",
    "    \"\"\"\n",
    "    Produces a structure of the following form from an initial data structure:\n",
    "    [\n",
    "        {\"id\": str, \"content\": str},...\n",
    "    ]\n",
    "    \"\"\"\n",
    "    return data\n",
    "\n",
    "\n",
    "def importing_data(data):\n",
    "    \"\"\"\n",
    "    Takes the output and adds and aggregates it to the original structure.\n",
    "    \"\"\"\n",
    "    return data\n",
    "\n",
    "\n",
    "@dataclass\n",
    "class BatchConfig:\n",
    "    \"\"\"\n",
    "    Configuration for batch job runner.\n",
    "    \"\"\"\n",
    "\n",
    "    system_prompt: str = \"\"\n",
    "    job_name: str = \"\"\n",
    "    input_data_path: str = \"\"\n",
    "    output_data_filename: str = \"\"\n",
    "    model: str = \"gpt-4.1-mini\"\n",
    "    MAX_BATCH_SIZE: int = 100\n",
    "    MAX_TOTAL_TOKENS: int = 2000000\n",
    "    CHARS_PER_TOKEN: float = 2.7\n",
    "    PROMPT_TOKEN_MULTIPLIER: int = 1000\n",
    "    BASE_OUTPUT_DIR: str = \"Data/batch_entity_result\"\n",
    "    import_function: Callable = importing_data\n",
    "    export_function: Callable = exporting_data"
   ]
  },
  {
   "cell_type": "markdown",
   "id": "53a555ff",
   "metadata": {},
   "source": [
    "# Start the Job"
   ]
  },
  {
   "cell_type": "code",
   "execution_count": null,
   "id": "ffd899f8",
   "metadata": {},
   "outputs": [],
   "source": [
    "def main():\n",
    "    print(\"=== Batch Job Runner ===\")\n",
    "    config = BatchConfig()\n",
    "    runner = BatchJobRunner(config)\n",
    "    runner.run()"
   ]
  },
  {
   "cell_type": "code",
   "execution_count": null,
   "id": "99c8b509",
   "metadata": {},
   "outputs": [],
   "source": [
    "main()"
   ]
  }
 ],
 "metadata": {
  "kernelspec": {
   "display_name": "general",
   "language": "python",
   "name": "python3"
  },
  "language_info": {
   "codemirror_mode": {
    "name": "ipython",
    "version": 3
   },
   "file_extension": ".py",
   "mimetype": "text/x-python",
   "name": "python",
   "nbconvert_exporter": "python",
   "pygments_lexer": "ipython3",
   "version": "3.9.0"
  }
 },
 "nbformat": 4,
 "nbformat_minor": 5
}
